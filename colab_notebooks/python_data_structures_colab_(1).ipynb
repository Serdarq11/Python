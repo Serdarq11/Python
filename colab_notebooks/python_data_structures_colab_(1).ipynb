{
  "nbformat": 4,
  "nbformat_minor": 0,
  "metadata": {
    "colab": {
      "provenance": []
    },
    "kernelspec": {
      "name": "python3",
      "display_name": "Python 3"
    },
    "language_info": {
      "name": "python"
    }
  },
  "cells": [
    {
      "cell_type": "markdown",
      "source": [
        "# Python Data Structures"
      ],
      "metadata": {
        "id": "TWIIFmxo7xtj"
      }
    },
    {
      "cell_type": "markdown",
      "source": [
        "Python provides several primary data structures that you can use to organize and manipulate data efficiently. The primary data structures in Python include *tuples, lists,\n",
        "dicts, and sets*."
      ],
      "metadata": {
        "id": "vHV9oRQf8ITR"
      }
    },
    {
      "cell_type": "markdown",
      "source": [
        "## Tupples"
      ],
      "metadata": {
        "id": "TUySU9Gm7xqD"
      }
    },
    {
      "cell_type": "markdown",
      "source": [
        "A tuple is a fixed length, immutable (unchangeable) sequence of Python objects. The easiest way to create one is with a comma separated sequence of values:"
      ],
      "metadata": {
        "id": "BBbcaTZm7xhQ"
      }
    },
    {
      "cell_type": "code",
      "source": [
        "# Tuples — create & index\n",
        "tup = (1, 2, 3)\n",
        "tup[0]"
      ],
      "metadata": {
        "id": "GcI48XXH8ccq",
        "colab": {
          "base_uri": "https://localhost:8080/"
        },
        "outputId": "48bc7ac9-8682-4047-f1d2-9bc5df9530aa"
      },
      "execution_count": null,
      "outputs": [
        {
          "output_type": "execute_result",
          "data": {
            "text/plain": [
              "1"
            ]
          },
          "metadata": {},
          "execution_count": 5
        }
      ]
    },
    {
      "cell_type": "markdown",
      "source": [
        "You can create tuples of tuples, or nested tuples:"
      ],
      "metadata": {
        "id": "8gM6lRqP8i7V"
      }
    },
    {
      "cell_type": "code",
      "source": [
        "# Tuples — nested & unpack\n",
        "numbers = (1, 2, (3, 4))\n",
        "a, b, (c, d) = numbers\n",
        "unpacked = (a, b, c, d)\n",
        "unpacked"
      ],
      "metadata": {
        "id": "3SRR95HR8ksl",
        "colab": {
          "base_uri": "https://localhost:8080/"
        },
        "outputId": "9ec1bdcb-08e5-421c-90c7-6bb2552127b5"
      },
      "execution_count": null,
      "outputs": [
        {
          "output_type": "execute_result",
          "data": {
            "text/plain": [
              "(1, 2, 3, 4)"
            ]
          },
          "metadata": {},
          "execution_count": 8
        }
      ]
    },
    {
      "cell_type": "markdown",
      "source": [
        "Elements can be accessed with square brackets:"
      ],
      "metadata": {
        "id": "VxoTgWn88s-A"
      }
    },
    {
      "cell_type": "code",
      "source": [
        "# Elements can be accessed with square brackets (0-indexed)\n",
        "tup = (10, 20, 30)\n",
        "print(tup[0])  # first element"
      ],
      "metadata": {
        "id": "gLg5U6CY8kha",
        "colab": {
          "base_uri": "https://localhost:8080/"
        },
        "outputId": "854a5475-025c-4ebe-de6f-1905a9ad9ac2"
      },
      "execution_count": null,
      "outputs": [
        {
          "output_type": "stream",
          "name": "stdout",
          "text": [
            "10\n"
          ]
        }
      ]
    },
    {
      "cell_type": "markdown",
      "source": [
        "It’s not possible to modify content of a tuple (that is why it is called immutable):"
      ],
      "metadata": {
        "id": "x86pOmZ584zW"
      }
    },
    {
      "cell_type": "code",
      "source": [
        "# Tuples are immutable — attempting to modify raises TypeError\n",
        "tup = (1, 2, 3)\n",
        "tup[0] = 99  # TypeError: 'tuple' object does not support item assignment"
      ],
      "metadata": {
        "id": "VgdMrB879JXy",
        "colab": {
          "base_uri": "https://localhost:8080/",
          "height": 183
        },
        "collapsed": true,
        "outputId": "ecc64aa7-5d73-48d5-ac0e-880254b4f9fb"
      },
      "execution_count": null,
      "outputs": [
        {
          "output_type": "error",
          "ename": "TypeError",
          "evalue": "'tuple' object does not support item assignment",
          "traceback": [
            "\u001b[0;31m---------------------------------------------------------------------------\u001b[0m",
            "\u001b[0;31mTypeError\u001b[0m                                 Traceback (most recent call last)",
            "\u001b[0;32m/tmp/ipython-input-4118250599.py\u001b[0m in \u001b[0;36m<cell line: 0>\u001b[0;34m()\u001b[0m\n\u001b[1;32m      1\u001b[0m \u001b[0;31m# Tuples are immutable — attempting to modify raises TypeError\u001b[0m\u001b[0;34m\u001b[0m\u001b[0;34m\u001b[0m\u001b[0m\n\u001b[1;32m      2\u001b[0m \u001b[0mtup\u001b[0m \u001b[0;34m=\u001b[0m \u001b[0;34m(\u001b[0m\u001b[0;36m1\u001b[0m\u001b[0;34m,\u001b[0m \u001b[0;36m2\u001b[0m\u001b[0;34m,\u001b[0m \u001b[0;36m3\u001b[0m\u001b[0;34m)\u001b[0m\u001b[0;34m\u001b[0m\u001b[0;34m\u001b[0m\u001b[0m\n\u001b[0;32m----> 3\u001b[0;31m \u001b[0mtup\u001b[0m\u001b[0;34m[\u001b[0m\u001b[0;36m0\u001b[0m\u001b[0;34m]\u001b[0m \u001b[0;34m=\u001b[0m \u001b[0;36m99\u001b[0m  \u001b[0;31m# TypeError: 'tuple' object does not support item assignment\u001b[0m\u001b[0;34m\u001b[0m\u001b[0;34m\u001b[0m\u001b[0m\n\u001b[0m",
            "\u001b[0;31mTypeError\u001b[0m: 'tuple' object does not support item assignment"
          ]
        }
      ]
    },
    {
      "cell_type": "markdown",
      "source": [
        "You can concatenate tuples using the + operator to produce longer tuples:"
      ],
      "metadata": {
        "id": "BP49lkYx9Rv9"
      }
    },
    {
      "cell_type": "code",
      "source": [
        "t1 = (1, 2, 3)\n",
        "t2 = (3, 4)\n",
        "t1 + t2"
      ],
      "metadata": {
        "id": "hnk7mH_Y9Ub9",
        "colab": {
          "base_uri": "https://localhost:8080/"
        },
        "outputId": "48eb223d-7b19-4bd4-d101-3680e1d31f08"
      },
      "execution_count": null,
      "outputs": [
        {
          "output_type": "execute_result",
          "data": {
            "text/plain": [
              "(1, 2, 3, 3, 4)"
            ]
          },
          "metadata": {},
          "execution_count": 12
        }
      ]
    },
    {
      "cell_type": "markdown",
      "source": [
        "Multiplying a tuple by an integer, as with lists, has the effect of concatenating together that many copies of the tuple"
      ],
      "metadata": {
        "id": "BFVz2B299ZUc"
      }
    },
    {
      "cell_type": "code",
      "source": [
        "# multiply a tuple by a number\n",
        "t = (1, 2)\n",
        "t * 3"
      ],
      "metadata": {
        "colab": {
          "base_uri": "https://localhost:8080/"
        },
        "id": "7nzTdqnW9bAZ",
        "outputId": "bb7c2c7f-c38c-4e74-d676-7cd08c3a7c7a"
      },
      "execution_count": null,
      "outputs": [
        {
          "output_type": "execute_result",
          "data": {
            "text/plain": [
              "(1, 2, 1, 2, 1, 2)"
            ]
          },
          "metadata": {},
          "execution_count": 13
        }
      ]
    },
    {
      "cell_type": "markdown",
      "source": [
        "If you assign a tuple like expression of variables, Python will unpack the value on the righthand side of the `=` sign:"
      ],
      "metadata": {
        "id": "W7yV6lfg9ERy"
      }
    },
    {
      "cell_type": "code",
      "source": [
        "# assign a tuple to a variable and then unpack it\n",
        "pt = (5, 6)\n",
        "x, y = pt\n",
        "print(x, y)"
      ],
      "metadata": {
        "id": "UlCktqv79k-m",
        "colab": {
          "base_uri": "https://localhost:8080/"
        },
        "outputId": "1c2ad9d2-264a-4b03-b1d0-deea5c3bee68"
      },
      "execution_count": null,
      "outputs": [
        {
          "output_type": "stream",
          "name": "stdout",
          "text": [
            "5 6\n"
          ]
        }
      ]
    },
    {
      "cell_type": "markdown",
      "source": [
        "Even sequences with nested tuples can be unpacked:"
      ],
      "metadata": {
        "id": "SeJx8XVk9vPT"
      }
    },
    {
      "cell_type": "code",
      "source": [
        "numbers = (1,2, (3,4))\n",
        "a, b, (c, d) = numbers\n",
        "a, b, c, d"
      ],
      "metadata": {
        "id": "MWFEkwbK9wWq",
        "colab": {
          "base_uri": "https://localhost:8080/"
        },
        "outputId": "0587da77-decf-4974-fb66-6f838ce5dfdb"
      },
      "execution_count": null,
      "outputs": [
        {
          "output_type": "execute_result",
          "data": {
            "text/plain": [
              "(1, 2, 3, 4)"
            ]
          },
          "metadata": {},
          "execution_count": 17
        }
      ]
    },
    {
      "cell_type": "markdown",
      "source": [
        "If you want to pluck only some elements from the beginning:"
      ],
      "metadata": {
        "id": "Jy636dgf9-1n"
      }
    },
    {
      "cell_type": "code",
      "source": [
        "# unpack the values but store only the first two values\n",
        "values = 1, 2, 3, 4\n",
        "first, second, *rest = values\n",
        "first, second"
      ],
      "metadata": {
        "id": "GNGRzAgt-BdK",
        "colab": {
          "base_uri": "https://localhost:8080/"
        },
        "outputId": "75d31e8a-728c-45f4-a67c-ee1b432bb64a"
      },
      "execution_count": null,
      "outputs": [
        {
          "output_type": "execute_result",
          "data": {
            "text/plain": [
              "(1, 2)"
            ]
          },
          "metadata": {},
          "execution_count": 18
        }
      ]
    },
    {
      "cell_type": "code",
      "source": [
        "#print the rest\n",
        "print(rest)"
      ],
      "metadata": {
        "id": "dIiaszVy-U-_",
        "colab": {
          "base_uri": "https://localhost:8080/"
        },
        "outputId": "8a606aae-694d-451d-a26d-2406a3846609"
      },
      "execution_count": null,
      "outputs": [
        {
          "output_type": "stream",
          "name": "stdout",
          "text": [
            "[3, 4]\n"
          ]
        }
      ]
    },
    {
      "cell_type": "markdown",
      "source": [
        "The underscore (`_`) is used for unwanted variables:"
      ],
      "metadata": {
        "id": "QGyOs91l-YLi"
      }
    },
    {
      "cell_type": "code",
      "source": [
        "# Use *_ to discard unwanted values\n",
        "values = (10, 20, 30, 40, 50)\n",
        "first, *_ = values\n",
        "print(first)  # 10"
      ],
      "metadata": {
        "id": "HQKjKCs8-bxS",
        "colab": {
          "base_uri": "https://localhost:8080/"
        },
        "outputId": "5184dbd7-16b1-4c47-a885-04ed505e1f99"
      },
      "execution_count": null,
      "outputs": [
        {
          "output_type": "stream",
          "name": "stdout",
          "text": [
            "10\n"
          ]
        }
      ]
    },
    {
      "cell_type": "markdown",
      "source": [
        "#### Exercise"
      ],
      "metadata": {
        "id": "a6b_BA92al2X"
      }
    },
    {
      "cell_type": "markdown",
      "source": [
        "We have the following nested tuple:"
      ],
      "metadata": {
        "id": "O0AUXVqT-spz"
      }
    },
    {
      "cell_type": "code",
      "execution_count": null,
      "metadata": {
        "colab": {
          "base_uri": "https://localhost:8080/"
        },
        "id": "iNO1FA7CZ-hI",
        "outputId": "ea64d7c4-d55c-4fff-f742-998944ea14ca"
      },
      "outputs": [
        {
          "output_type": "execute_result",
          "data": {
            "text/plain": [
              "((1, 2, 3, 4, 5), (6, 7, 8, 9, 10), (11, 12, 13, 14, 15))"
            ]
          },
          "metadata": {},
          "execution_count": 10
        }
      ],
      "source": [
        "tup = ((1,2,3,4,5), (6,7,8,9,10), (11,12,13,14,15))\n",
        "tup"
      ]
    },
    {
      "cell_type": "markdown",
      "source": [
        "Write the necessary code to fetch the last three elements from each inner tuple and to build a new non nested/flat tuple with these fetched elements.\n",
        "\n",
        "The final outcome should be:`(3, 4, 5, 8, 9, 10, 13, 14, 15)`"
      ],
      "metadata": {
        "id": "KpeP_Bf6-z4L"
      }
    },
    {
      "cell_type": "code",
      "source": [
        "#you can use for loop,\n",
        "#inside the loop insert the last three elements to a new tuple\n",
        "result = []\n",
        "for inner in tup:\n",
        "    for x in inner[-3:]:\n",
        "        result.append(x)\n",
        "new = tuple(result)"
      ],
      "metadata": {
        "id": "SQ9MisSCacdg",
        "colab": {
          "base_uri": "https://localhost:8080/",
          "height": 219
        },
        "outputId": "58ddbb93-b90e-4744-e623-fbe40cacc62e"
      },
      "execution_count": null,
      "outputs": [
        {
          "output_type": "error",
          "ename": "TypeError",
          "evalue": "'int' object is not subscriptable",
          "traceback": [
            "\u001b[0;31m---------------------------------------------------------------------------\u001b[0m",
            "\u001b[0;31mTypeError\u001b[0m                                 Traceback (most recent call last)",
            "\u001b[0;32m/tmp/ipython-input-1421150919.py\u001b[0m in \u001b[0;36m<cell line: 0>\u001b[0;34m()\u001b[0m\n\u001b[1;32m      3\u001b[0m \u001b[0mresult\u001b[0m \u001b[0;34m=\u001b[0m \u001b[0;34m[\u001b[0m\u001b[0;34m]\u001b[0m\u001b[0;34m\u001b[0m\u001b[0;34m\u001b[0m\u001b[0m\n\u001b[1;32m      4\u001b[0m \u001b[0;32mfor\u001b[0m \u001b[0minner\u001b[0m \u001b[0;32min\u001b[0m \u001b[0mtup\u001b[0m\u001b[0;34m:\u001b[0m\u001b[0;34m\u001b[0m\u001b[0;34m\u001b[0m\u001b[0m\n\u001b[0;32m----> 5\u001b[0;31m     \u001b[0;32mfor\u001b[0m \u001b[0mx\u001b[0m \u001b[0;32min\u001b[0m \u001b[0minner\u001b[0m\u001b[0;34m[\u001b[0m\u001b[0;34m-\u001b[0m\u001b[0;36m3\u001b[0m\u001b[0;34m:\u001b[0m\u001b[0;34m]\u001b[0m\u001b[0;34m:\u001b[0m\u001b[0;34m\u001b[0m\u001b[0;34m\u001b[0m\u001b[0m\n\u001b[0m\u001b[1;32m      6\u001b[0m         \u001b[0mresult\u001b[0m\u001b[0;34m.\u001b[0m\u001b[0mappend\u001b[0m\u001b[0;34m(\u001b[0m\u001b[0mx\u001b[0m\u001b[0;34m)\u001b[0m\u001b[0;34m\u001b[0m\u001b[0;34m\u001b[0m\u001b[0m\n\u001b[1;32m      7\u001b[0m \u001b[0mnew\u001b[0m \u001b[0;34m=\u001b[0m \u001b[0mtuple\u001b[0m\u001b[0;34m(\u001b[0m\u001b[0mresult\u001b[0m\u001b[0;34m)\u001b[0m\u001b[0;34m\u001b[0m\u001b[0;34m\u001b[0m\u001b[0m\n",
            "\u001b[0;31mTypeError\u001b[0m: 'int' object is not subscriptable"
          ]
        }
      ]
    },
    {
      "cell_type": "markdown",
      "source": [
        "## Lists"
      ],
      "metadata": {
        "id": "teZlCtHw_NU_"
      }
    },
    {
      "cell_type": "markdown",
      "source": [
        "In contrast with tuples, lists are variable length and their contents can be modified in place. You can define them using square brackets:"
      ],
      "metadata": {
        "id": "-uyBkQPY_OnT"
      }
    },
    {
      "cell_type": "code",
      "source": [
        "x = [1, 'a', 2, 'b']\n",
        "type(x)"
      ],
      "metadata": {
        "colab": {
          "base_uri": "https://localhost:8080/"
        },
        "id": "A8lkKqnO_Use",
        "outputId": "76a3f731-e90e-4237-f655-61078bec6c94"
      },
      "execution_count": null,
      "outputs": [
        {
          "output_type": "execute_result",
          "data": {
            "text/plain": [
              "list"
            ]
          },
          "metadata": {},
          "execution_count": 12
        }
      ]
    },
    {
      "cell_type": "markdown",
      "source": [
        "You can convert a tuple or a dictionary to a list using the `list()` conversion function:"
      ],
      "metadata": {
        "id": "WsxwBSa__e4-"
      }
    },
    {
      "cell_type": "code",
      "source": [
        "myList = list((1,2,3))\n",
        "myList"
      ],
      "metadata": {
        "colab": {
          "base_uri": "https://localhost:8080/"
        },
        "id": "izOoeDqW_eji",
        "outputId": "057cc71f-1ba8-467e-d2d8-b4b3f7b986ef"
      },
      "execution_count": null,
      "outputs": [
        {
          "output_type": "execute_result",
          "data": {
            "text/plain": [
              "[1, 2, 3]"
            ]
          },
          "metadata": {},
          "execution_count": 13
        }
      ]
    },
    {
      "cell_type": "markdown",
      "source": [
        "You can use the `in` keyword to check if a list contains a value:"
      ],
      "metadata": {
        "id": "m5f_b_vNAlLV"
      }
    },
    {
      "cell_type": "code",
      "source": [
        "#check if 3 is in myList"
      ],
      "metadata": {
        "id": "rqYiQGCIBSOr"
      },
      "execution_count": null,
      "outputs": []
    },
    {
      "cell_type": "markdown",
      "source": [
        "Similar to tuples, adding two lists together with + concatenates them:"
      ],
      "metadata": {
        "id": "NOLlhfJwEDvb"
      }
    },
    {
      "cell_type": "code",
      "source": [
        "[4, None, 'A'] + [7, 8, (9,10)]"
      ],
      "metadata": {
        "colab": {
          "base_uri": "https://localhost:8080/"
        },
        "id": "_Fb56qRLEL4y",
        "outputId": "3f1cca01-4386-4fe5-ec5d-4f28c98119ae"
      },
      "execution_count": null,
      "outputs": [
        {
          "output_type": "execute_result",
          "data": {
            "text/plain": [
              "[4, None, 'A', 7, 8, (9, 10)]"
            ]
          },
          "metadata": {},
          "execution_count": 15
        }
      ]
    },
    {
      "cell_type": "markdown",
      "source": [
        "**Manipulating Lists**"
      ],
      "metadata": {
        "id": "KFxwBH4hIqlK"
      }
    },
    {
      "cell_type": "markdown",
      "source": [
        "Elements can be appended to the end of the list with the\n",
        "`append` method:"
      ],
      "metadata": {
        "id": "CupR-Efq_3na"
      }
    },
    {
      "cell_type": "code",
      "source": [
        "#Append 4 to myList"
      ],
      "metadata": {
        "id": "59CHXqd2_9OI"
      },
      "execution_count": null,
      "outputs": []
    },
    {
      "cell_type": "markdown",
      "source": [
        "Using `insert` you can insert an element at a specific\n",
        "location in the list. The insertion index must be between 0 and the length of the\n",
        "list, inclusive."
      ],
      "metadata": {
        "id": "HQMgFHhAACRC"
      }
    },
    {
      "cell_type": "code",
      "source": [
        "myList.insert(0, 0) #index, value\n",
        "myList"
      ],
      "metadata": {
        "colab": {
          "base_uri": "https://localhost:8080/"
        },
        "id": "HMht8SEKAFhp",
        "outputId": "064eccda-14e9-40cc-865f-2a894999182e"
      },
      "execution_count": null,
      "outputs": [
        {
          "output_type": "execute_result",
          "data": {
            "text/plain": [
              "[0, 1, 2, 3, 4]"
            ]
          },
          "metadata": {},
          "execution_count": 32
        }
      ]
    },
    {
      "cell_type": "markdown",
      "source": [
        "You can `pop` to remove an element at a particular index.\n",
        "After removal it will return the element itself."
      ],
      "metadata": {
        "id": "eYuwiBY8AhZY"
      }
    },
    {
      "cell_type": "code",
      "source": [
        "print(myList.pop(0))\n",
        "print(myList.pop(0))\n",
        "print(myList)"
      ],
      "metadata": {
        "colab": {
          "base_uri": "https://localhost:8080/"
        },
        "id": "HH0NlF75Azv0",
        "outputId": "b680b640-99a2-440b-f944-c8a8c438e2dc"
      },
      "execution_count": null,
      "outputs": [
        {
          "output_type": "stream",
          "name": "stdout",
          "text": [
            "1\n",
            "2\n",
            "[3]\n"
          ]
        }
      ]
    },
    {
      "cell_type": "markdown",
      "source": [
        "Elements can be removed by value with `remove`, which locates\n",
        "the first such value and removes it from the list:"
      ],
      "metadata": {
        "id": "s4y_OnSMA8hV"
      }
    },
    {
      "cell_type": "code",
      "source": [
        "myList.append(2)\n",
        "myList"
      ],
      "metadata": {
        "colab": {
          "base_uri": "https://localhost:8080/"
        },
        "id": "TXuCiHvJA-77",
        "outputId": "0ca09dfc-e566-453b-8fe7-05a751f2639d"
      },
      "execution_count": null,
      "outputs": [
        {
          "output_type": "execute_result",
          "data": {
            "text/plain": [
              "[2, 3, 4, 2]"
            ]
          },
          "metadata": {},
          "execution_count": 34
        }
      ]
    },
    {
      "cell_type": "code",
      "source": [
        "#remove 2 from myList"
      ],
      "metadata": {
        "id": "skby5MT1BC_6"
      },
      "execution_count": null,
      "outputs": []
    },
    {
      "cell_type": "markdown",
      "source": [
        "If you have a list already defined, you can append multiple\n",
        "elements to it using the `extend` method:"
      ],
      "metadata": {
        "id": "F73BmyklEXzo"
      }
    },
    {
      "cell_type": "code",
      "source": [
        "x = [4, None, 'A']\n",
        "#Add [1,2,3] to x"
      ],
      "metadata": {
        "id": "4aCmDM8qEZxi"
      },
      "execution_count": null,
      "outputs": []
    },
    {
      "cell_type": "markdown",
      "source": [
        "Using `extend` to append elements to an existing list, especially if you are building up a large list, is usually preferable. It is faster than the concatenative alternative."
      ],
      "metadata": {
        "id": "-fG5XpeEElVF"
      }
    },
    {
      "cell_type": "markdown",
      "source": [
        "You can sort a list in place (without creating a new object) by calling its `sort` function:"
      ],
      "metadata": {
        "id": "60j3BrDZEt0r"
      }
    },
    {
      "cell_type": "code",
      "source": [
        "a = [6,5,4,3,2,1]\n",
        "a.sort()#it does not return anything\n",
        "a"
      ],
      "metadata": {
        "colab": {
          "base_uri": "https://localhost:8080/"
        },
        "id": "ZGx5arqJExNn",
        "outputId": "740c2f8b-94d3-4799-8e10-b562979725e7"
      },
      "execution_count": null,
      "outputs": [
        {
          "output_type": "execute_result",
          "data": {
            "text/plain": [
              "[1, 2, 3, 4, 5, 6]"
            ]
          },
          "metadata": {},
          "execution_count": 20
        }
      ]
    },
    {
      "cell_type": "markdown",
      "source": [
        "**Exercise**"
      ],
      "metadata": {
        "id": "SCi-q9i1ekt_"
      }
    },
    {
      "cell_type": "markdown",
      "source": [
        "We have two lists containing a mix of string and integer values:\n",
        "\n",
        "`list1 = [5 , \\\"D\\\", 2 , \\\"C\\\", 4]`\n",
        "\n",
        "`list2 = [3 , \\\"A\\\", 1, \\\"B\\\", 6]`\n",
        "\n",
        "Write the necessary code to obtain two separate lists for strings and integer values. The final lists should be sorted in an ascending order:\n",
        "\n",
        "`['A', 'B', 'C', 'D’]`\n",
        "\n",
        "`[1, 2, 3, 4, 5, 6]`\n"
      ],
      "metadata": {
        "id": "vJqsA2RKE5Zu"
      }
    },
    {
      "cell_type": "code",
      "source": [
        "#I recommend merging two lists into a new single list.\n",
        "#Create two new empty lists one to store integers another to store strings\n",
        "#Iterate through the elements of the new list\n",
        "#At each iteration chek if the value is an integer or string using type function\n",
        "#    After this check, add the value to the correct list (string or int)\n",
        "#Then do the sorting."
      ],
      "metadata": {
        "id": "mo8EFezva1bL"
      },
      "execution_count": null,
      "outputs": []
    },
    {
      "cell_type": "markdown",
      "source": [
        "###Slicing Lists\n",
        "\n",
        "You can select sections of most sequence types by using\n",
        "slice notation. In its basic form, `start:stop` are passed to the indexing operator `[]`.The element at the start index is included, but the stop index is excluded."
      ],
      "metadata": {
        "id": "85pJC-8IFpZ9"
      }
    },
    {
      "cell_type": "markdown",
      "source": [
        "![slicing-image.png](data:image/png;base64,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)"
      ],
      "metadata": {
        "id": "6Er4z_ni784d"
      }
    },
    {
      "cell_type": "code",
      "source": [
        "seq = [1, 2, 3, 4, 5, 6, 7]\n",
        "seq[1:3]"
      ],
      "metadata": {
        "colab": {
          "base_uri": "https://localhost:8080/"
        },
        "id": "6I2hBxlG8jSa",
        "outputId": "a453e15b-cead-45ea-a9c3-b1e464ac083f"
      },
      "execution_count": null,
      "outputs": [
        {
          "output_type": "execute_result",
          "data": {
            "text/plain": [
              "[2, 3]"
            ]
          },
          "metadata": {},
          "execution_count": 1
        }
      ]
    },
    {
      "cell_type": "markdown",
      "source": [
        "Either the start or stop can be omitted:"
      ],
      "metadata": {
        "id": "GXxbKlWw83D8"
      }
    },
    {
      "cell_type": "code",
      "source": [
        "#Select elements until the 4th item\n",
        "#or select the first three items"
      ],
      "metadata": {
        "id": "MZaIsTjM84-U"
      },
      "execution_count": null,
      "outputs": []
    },
    {
      "cell_type": "code",
      "source": [
        "#Select all starting from the 4th item\n",
        "#or select the items after the 3rd item"
      ],
      "metadata": {
        "id": "pRYKGFOv8-9d"
      },
      "execution_count": null,
      "outputs": []
    },
    {
      "cell_type": "markdown",
      "source": [
        "Negative indices slice the sequence relative to the end:"
      ],
      "metadata": {
        "id": "8AXdGym-87N3"
      }
    },
    {
      "cell_type": "code",
      "source": [
        "seq[-3:]"
      ],
      "metadata": {
        "colab": {
          "base_uri": "https://localhost:8080/"
        },
        "id": "Kgeoi9o789bq",
        "outputId": "bb3f1b92-92c4-4a4c-8a43-3b42a5d5f59d"
      },
      "execution_count": null,
      "outputs": [
        {
          "output_type": "execute_result",
          "data": {
            "text/plain": [
              "[5, 6, 7]"
            ]
          },
          "metadata": {},
          "execution_count": 4
        }
      ]
    },
    {
      "cell_type": "code",
      "source": [
        "seq[-4:-2]"
      ],
      "metadata": {
        "colab": {
          "base_uri": "https://localhost:8080/"
        },
        "id": "nIsjDCex9Fzi",
        "outputId": "58124a27-f24a-461d-f9eb-f49ab304ba0a"
      },
      "execution_count": null,
      "outputs": [
        {
          "output_type": "execute_result",
          "data": {
            "text/plain": [
              "[4, 5]"
            ]
          },
          "metadata": {},
          "execution_count": 5
        }
      ]
    },
    {
      "cell_type": "markdown",
      "source": [
        "A step can also be used after a second colon to, say, take every other element:"
      ],
      "metadata": {
        "id": "qINCfZ8yHpct"
      }
    },
    {
      "cell_type": "code",
      "source": [
        "seq = [0, 1, 2, 3, 4]\n",
        "seq[::2]"
      ],
      "metadata": {
        "colab": {
          "base_uri": "https://localhost:8080/"
        },
        "id": "hYZ4nT2dHtaO",
        "outputId": "65baee3a-f8a7-4f63-b5e9-f9f6cbf3355b"
      },
      "execution_count": null,
      "outputs": [
        {
          "output_type": "execute_result",
          "data": {
            "text/plain": [
              "[0, 2, 4]"
            ]
          },
          "metadata": {},
          "execution_count": 4
        }
      ]
    },
    {
      "cell_type": "markdown",
      "source": [
        "A clever use of this is to pass 1, which has the useful effect of reversing a list or tuple:"
      ],
      "metadata": {
        "id": "yKnMzVYlIDbW"
      }
    },
    {
      "cell_type": "code",
      "source": [],
      "metadata": {
        "id": "_iO33XLnIF8s"
      },
      "execution_count": null,
      "outputs": []
    },
    {
      "cell_type": "markdown",
      "source": [
        "### **Exercise**"
      ],
      "metadata": {
        "id": "4QXRnRqwhgW1"
      }
    },
    {
      "cell_type": "markdown",
      "source": [
        "We have the following sequence: `seq = [1,2,3,4,5,6,7,8,9,10]`\n",
        "\n",
        "Our goal is to find out if the sum of the numbers at odd indices (2, 4, 5, …) are bigger than the sum of the numbers at even indices (1, 3, 5, …). You need to use slicing for this task. You can use `sum` function to add up the numbers in a list."
      ],
      "metadata": {
        "id": "dzjzlfRkINKg"
      }
    },
    {
      "cell_type": "code",
      "source": [
        "seq = [1,2,3,4,5,6,7,8,9,10]"
      ],
      "metadata": {
        "id": "l2MhtjzbBlE3"
      },
      "execution_count": null,
      "outputs": []
    },
    {
      "cell_type": "code",
      "source": [
        "%%time\n",
        "sum1 =  #2,4,6,8,10\n",
        "print(sum1)\n",
        "\n",
        "sum2=   #1,3,5,7,9\n",
        "print(sum2)\n"
      ],
      "metadata": {
        "id": "es-r1VLhf8ge"
      },
      "execution_count": null,
      "outputs": []
    },
    {
      "cell_type": "code",
      "source": [
        "%%time\n",
        "#implement the same with for loop"
      ],
      "metadata": {
        "id": "szo7z9s0ntjf"
      },
      "execution_count": null,
      "outputs": []
    },
    {
      "cell_type": "markdown",
      "source": [
        "###Enumerate\n",
        "\n",
        "It’s common when iterating over a sequence to want to keep track of the index of the current item."
      ],
      "metadata": {
        "id": "VFhzMWSTJGg8"
      }
    },
    {
      "cell_type": "code",
      "source": [
        "i = 0#variable to keep the index of the item being iterated\n",
        "for value in [1,2,3,4]:\n",
        "  print(\"value:\", value)\n",
        "  print(\"index:\", i)\n",
        "  i++"
      ],
      "metadata": {
        "id": "BB5xJZheJMRG"
      },
      "execution_count": null,
      "outputs": []
    },
    {
      "cell_type": "markdown",
      "source": [
        "Since this is so common, Python has a built\n",
        "in function, `enumerate`, which returns a sequence of `(index, value)` tuples:"
      ],
      "metadata": {
        "id": "1H7XShdzJqTF"
      }
    },
    {
      "cell_type": "code",
      "source": [
        "for ix, value in enumerate([1,2,3,4]):\n",
        "  print(\"value:\", value, \"index:\", ix)"
      ],
      "metadata": {
        "id": "w-xth_bKJyGa",
        "colab": {
          "base_uri": "https://localhost:8080/"
        },
        "outputId": "31392fda-3510-4107-f3cb-f421f32eb373"
      },
      "execution_count": null,
      "outputs": [
        {
          "output_type": "stream",
          "name": "stdout",
          "text": [
            "value: 1 index: 0\n",
            "value: 2 index: 1\n",
            "value: 3 index: 2\n",
            "value: 4 index: 3\n"
          ]
        }
      ]
    },
    {
      "cell_type": "markdown",
      "source": [
        "Previous exercise could be done easily using `enumerate`."
      ],
      "metadata": {
        "id": "sxKm0HoYKJQb"
      }
    },
    {
      "cell_type": "markdown",
      "source": [
        "###Strings as lists\n",
        "\n"
      ],
      "metadata": {
        "id": "DuE0dZRKeB_H"
      }
    },
    {
      "cell_type": "markdown",
      "source": [
        "You can treat a `string` as a list-like object in Python because strings are sequences of characters. While they are not exactly lists, they share some characteristics with lists and other sequences."
      ],
      "metadata": {
        "id": "4uuWf4_beWN7"
      }
    },
    {
      "cell_type": "code",
      "source": [
        "x = 'This is a string'\n",
        "print(x[0])  #first character\n",
        "print(x[0:1])  #first character, but we have explicitly set the end character\n",
        "print(x[0:2])  #first two characters"
      ],
      "metadata": {
        "id": "JEdc1DrReK8c"
      },
      "execution_count": null,
      "outputs": []
    },
    {
      "cell_type": "markdown",
      "source": [
        "However, keep in mind that strings are immutable in Python, meaning you cannot change their individual characters. Lists, on the other hand, are mutable, and you can modify their elements. So, while strings share some similarities with lists, they have their own unique characteristics as well."
      ],
      "metadata": {
        "id": "ksQnVkIUegzY"
      }
    },
    {
      "cell_type": "markdown",
      "source": [
        "## `zip` Built-in Method"
      ],
      "metadata": {
        "id": "tEkV7OkaKZ1j"
      }
    },
    {
      "cell_type": "markdown",
      "source": [
        "`zip` “pairs” up the elements of a number of lists, tuples, or other sequences to create a list of tuples:"
      ],
      "metadata": {
        "id": "7As7n2H_KixN"
      }
    },
    {
      "cell_type": "code",
      "source": [
        "seq1 = ['A', 'B', 'C']\n",
        "seq2 = [1, 2, 3]\n",
        "zipped = zip(seq1, seq2)\n",
        "list(zipped)"
      ],
      "metadata": {
        "colab": {
          "base_uri": "https://localhost:8080/"
        },
        "id": "tRB9bSH9Kok-",
        "outputId": "a566cd8d-1890-401d-9405-05b3400fbc13"
      },
      "execution_count": null,
      "outputs": [
        {
          "output_type": "execute_result",
          "data": {
            "text/plain": [
              "[('A', 1), ('B', 2), ('C', 3)]"
            ]
          },
          "metadata": {},
          "execution_count": 7
        }
      ]
    },
    {
      "cell_type": "markdown",
      "source": [
        "The number of elements it produces is determined by the\n",
        "shortest sequence:"
      ],
      "metadata": {
        "id": "Cs45IJl8K92K"
      }
    },
    {
      "cell_type": "code",
      "source": [
        "seq3 = [True, False]\n",
        "list(zip(seq1, seq2, seq3))"
      ],
      "metadata": {
        "colab": {
          "base_uri": "https://localhost:8080/"
        },
        "id": "8zueEGnTLG5E",
        "outputId": "c5a06a01-d46d-4220-8bbd-b760c65e2400"
      },
      "execution_count": null,
      "outputs": [
        {
          "output_type": "execute_result",
          "data": {
            "text/plain": [
              "[('A', 1, True), ('B', 2, False)]"
            ]
          },
          "metadata": {},
          "execution_count": 8
        }
      ]
    },
    {
      "cell_type": "markdown",
      "source": [
        "###**Exercise**"
      ],
      "metadata": {
        "id": "jUGmY7VZpecN"
      }
    },
    {
      "cell_type": "markdown",
      "source": [
        "We have the three lists below:"
      ],
      "metadata": {
        "id": "UDZETqWmLPbQ"
      }
    },
    {
      "cell_type": "code",
      "source": [
        "studentIds = [1,2,3,4,5,6]\n",
        "quiz1 = [80, 30, 35, 90, 60, 80]\n",
        "quiz2 = [70, 20, 95, 80, 75, 20]"
      ],
      "metadata": {
        "id": "dWeT7Ta0owLf"
      },
      "execution_count": null,
      "outputs": []
    },
    {
      "cell_type": "markdown",
      "source": [
        "Using a single for loop, find the students who got 60 or more in both quizzes. Here `zip` function comes very handy."
      ],
      "metadata": {
        "id": "6zO5A68ULUaW"
      }
    },
    {
      "cell_type": "code",
      "source": [
        "wholeData = #zip three lists"
      ],
      "metadata": {
        "id": "Etmv18CGps0h"
      },
      "execution_count": null,
      "outputs": []
    },
    {
      "cell_type": "code",
      "source": [
        "#use for loop to iterate wholeData"
      ],
      "metadata": {
        "id": "mokq-pWLp1F3"
      },
      "execution_count": null,
      "outputs": []
    },
    {
      "cell_type": "markdown",
      "source": [
        "## Dictionaries (`dict`)"
      ],
      "metadata": {
        "id": "F8hMjfiKgqb5"
      }
    },
    {
      "cell_type": "markdown",
      "source": [
        "A dictionary, often abbreviated as `dict`, is a fundamental and versatile built-in data structure in Python. It serves as a collection of key-value pairs, where each key and value can be any valid Python object.\n",
        "\n",
        "Dictionaries are flexible in size, meaning they can grow or shrink as needed to accommodate your data. You can create a dictionary using curly braces `{}` or the `dict()` constructor.\n",
        "\n",
        "To define the key-value pairs within a dictionary, you use colons `:` to separate the keys from their corresponding values.\n",
        "\n",
        "Here's a simple example of creating a dictionary:"
      ],
      "metadata": {
        "id": "w6203PFRNsOe"
      }
    },
    {
      "cell_type": "code",
      "source": [
        "my_dict = {'name': 'Alice', 'age': 30, 'city': 'New York'}\n"
      ],
      "metadata": {
        "id": "Lu_XnVz1Nr0w"
      },
      "execution_count": null,
      "outputs": []
    },
    {
      "cell_type": "markdown",
      "source": [
        "In this dictionary, `'name'`, `'age'`, and `'city'` are `keys`, and `'Alice'`, `30`, and `'New York'` are their respective `values`.\n",
        "\n",
        "Dictionaries are extremely useful for associating and retrieving data using meaningful keys, making them a powerful tool in Python programming."
      ],
      "metadata": {
        "id": "iD0aZwfOOP0D"
      }
    },
    {
      "cell_type": "markdown",
      "source": [
        "You can access, insert, or set elements using the same syntax as for accessing elements of a list or tuple:"
      ],
      "metadata": {
        "id": "rUrj-PI4Oc2u"
      }
    },
    {
      "cell_type": "code",
      "source": [
        "my_dict[\"gender\"] = \"female\"\n",
        "my_dict"
      ],
      "metadata": {
        "id": "6CRXgkNROgEv"
      },
      "execution_count": null,
      "outputs": []
    },
    {
      "cell_type": "markdown",
      "source": [
        "You can check if a `dict` contains a key"
      ],
      "metadata": {
        "id": "dZcs62raOt5C"
      }
    },
    {
      "cell_type": "code",
      "source": [
        "'name' in my_dict"
      ],
      "metadata": {
        "id": "YmBwb4-6OwTV"
      },
      "execution_count": null,
      "outputs": []
    },
    {
      "cell_type": "markdown",
      "source": [
        "You can delete values either using the `del` keyword or the `pop` method:"
      ],
      "metadata": {
        "id": "IuVlwE6HO801"
      }
    },
    {
      "cell_type": "code",
      "source": [
        "del my_dict['gender']\n",
        "my_dict"
      ],
      "metadata": {
        "id": "VZn-PcbJPBXh"
      },
      "execution_count": null,
      "outputs": []
    },
    {
      "cell_type": "code",
      "source": [
        "age = my_dict.pop('age')\n",
        "age"
      ],
      "metadata": {
        "id": "PP4BIkBEPGr-"
      },
      "execution_count": null,
      "outputs": []
    },
    {
      "cell_type": "markdown",
      "source": [
        "The `keys` and `values` method give you iterators of the\n",
        "`dict`’s keys and values, respectively."
      ],
      "metadata": {
        "id": "h-jlIPMYPRay"
      }
    },
    {
      "cell_type": "code",
      "source": [
        "print(list(my_dict.keys()))\n",
        "print(list(my_dict.values()))"
      ],
      "metadata": {
        "id": "S4gRUkUsPSFo"
      },
      "execution_count": null,
      "outputs": []
    },
    {
      "cell_type": "markdown",
      "source": [
        "You can merge one dict into another using the `update` method:"
      ],
      "metadata": {
        "id": "VF54o4XtPnzn"
      }
    },
    {
      "cell_type": "code",
      "source": [
        "my_dict.update({'age':30, 'gender':'female'})\n",
        "my_dict"
      ],
      "metadata": {
        "id": "NfEiq8TKPqaQ"
      },
      "execution_count": null,
      "outputs": []
    },
    {
      "cell_type": "code",
      "source": [
        "my_dict.update({'gender':'male'})\n",
        "my_dict"
      ],
      "metadata": {
        "id": "DtqpEZQ3PztD"
      },
      "execution_count": null,
      "outputs": []
    },
    {
      "cell_type": "markdown",
      "source": [
        "###**Exercise**\n",
        "\n",
        "We have the three lists below:\n",
        "\n",
        "    studentIds = [1, 2, 3, 4, 5, 6]\n",
        "    quiz1 = [80, 30, 35, 90, 60, 80]\n",
        "    quiz2 = [70, 20, 95, 80, 75, 20]\n",
        "\n",
        "Convert this into a dictionary:\n",
        "\n",
        "    {\n",
        "         '1': {'quiz1': 80, 'quiz2': 70},\n",
        "         '2': {'quiz1': 30, 'quiz2': 20},\n",
        "         '3': {'quiz1': 35, 'quiz2': 95},\n",
        "         '4': {'quiz1': 90, 'quiz2': 80},\n",
        "         '5': {'quiz1': 60, 'quiz2': 75},\n",
        "         '6': {'quiz1': 80, 'quiz2': 20}\n",
        "    }\n",
        "\n",
        "`studentGrades['3']['quiz1'] should return 35`"
      ],
      "metadata": {
        "id": "cSYHMRsMshiY"
      }
    },
    {
      "cell_type": "code",
      "source": [
        "studentGrades = {}\n",
        "\n",
        "#use for loop"
      ],
      "metadata": {
        "id": "k2ANqizMqplY"
      },
      "execution_count": null,
      "outputs": []
    },
    {
      "cell_type": "markdown",
      "source": [
        "## `set` Data Structure"
      ],
      "metadata": {
        "id": "FHGpSXWyRNXm"
      }
    },
    {
      "cell_type": "markdown",
      "source": [
        "A **set** is an unordered collection of unique elements that are unindexed. A set can be created in two ways: via the `set` function or via a set literal with curly braces `{}`:"
      ],
      "metadata": {
        "id": "1ZjP-hKaRU6N"
      }
    },
    {
      "cell_type": "code",
      "source": [
        "set([1, 1, 1, 2, 2, 3])"
      ],
      "metadata": {
        "id": "fKdZXQ1lc7sY"
      },
      "execution_count": null,
      "outputs": []
    },
    {
      "cell_type": "code",
      "source": [
        "a = {1, 1, 1, 2, 2, 3}\n",
        "a"
      ],
      "metadata": {
        "id": "aw7OafnFdAzu"
      },
      "execution_count": null,
      "outputs": []
    },
    {
      "cell_type": "markdown",
      "source": [
        "`sets` support mathematical set operations like union, intersection, difference, and symmetric difference."
      ],
      "metadata": {
        "id": "bmBV8SIuc8SR"
      }
    },
    {
      "cell_type": "code",
      "source": [
        "b = {3, 4, 5, 6}"
      ],
      "metadata": {
        "id": "WZFJJskHdNNF"
      },
      "execution_count": null,
      "outputs": []
    },
    {
      "cell_type": "code",
      "source": [
        "a.intersection(b)"
      ],
      "metadata": {
        "id": "asctGIAidRnX"
      },
      "execution_count": null,
      "outputs": []
    },
    {
      "cell_type": "code",
      "source": [
        "a.union(b)"
      ],
      "metadata": {
        "id": "egFfqG3GdWWp"
      },
      "execution_count": null,
      "outputs": []
    },
    {
      "cell_type": "code",
      "source": [
        "a-b"
      ],
      "metadata": {
        "colab": {
          "base_uri": "https://localhost:8080/"
        },
        "id": "bP6LDmbZNz5V",
        "outputId": "ff31e0df-913d-432d-f015-0021ae35c691"
      },
      "execution_count": null,
      "outputs": [
        {
          "output_type": "execute_result",
          "data": {
            "text/plain": [
              "{1, 2}"
            ]
          },
          "metadata": {},
          "execution_count": 7
        }
      ]
    },
    {
      "cell_type": "markdown",
      "source": [
        "## Lambda Expressions"
      ],
      "metadata": {
        "id": "9CTuvco8f6IK"
      }
    },
    {
      "cell_type": "markdown",
      "source": [
        " Lambda expressions in Python are concise, anonymous functions used for simple, one-line operations. They are created using the `lambda` keyword, followed by the function parameters and an expression to compute the result.\n",
        "\n",
        " Here's a basic syntax: `lambda arguments: expression`"
      ],
      "metadata": {
        "id": "j_0CjAGVf9Zz"
      }
    },
    {
      "cell_type": "markdown",
      "source": [
        "For example, this lambda expression calculates the square of a number:"
      ],
      "metadata": {
        "id": "9nH0ju1PgRGw"
      }
    },
    {
      "cell_type": "code",
      "source": [
        "square = lambda x: x * x\n",
        "#write the same expression as a function definition"
      ],
      "metadata": {
        "id": "xmHmwGlLf8Q0"
      },
      "execution_count": null,
      "outputs": []
    },
    {
      "cell_type": "markdown",
      "source": [
        "You can then use square like a regular function:"
      ],
      "metadata": {
        "id": "07ZGC-lKgU5o"
      }
    },
    {
      "cell_type": "code",
      "source": [
        "result = square(5)  # Result is 25"
      ],
      "metadata": {
        "id": "20YgQn6AgXCR"
      },
      "execution_count": null,
      "outputs": []
    },
    {
      "cell_type": "markdown",
      "source": [
        "Lambda expressions are often used in places where a short, simple function is needed, such as sorting, filtering, or mapping data. They're handy for writing concise code and can make your code more readable when the logic is straightforward."
      ],
      "metadata": {
        "id": "cMSGRQohgbBh"
      }
    },
    {
      "cell_type": "markdown",
      "source": [
        "## List Comprehensions"
      ],
      "metadata": {
        "id": "sIdCLf3EgiSv"
      }
    },
    {
      "cell_type": "markdown",
      "source": [
        "List comprehension offers a shorter syntax when you want to create a new list based on the values of an existing list.\n",
        "\n",
        "The general structure of a list comprehension is as follows:\n",
        "\n",
        "`new_list = [expression for item in iterable if condition]`"
      ],
      "metadata": {
        "id": "gtHTC8Oghk9l"
      }
    },
    {
      "cell_type": "markdown",
      "source": [
        "Creating a list of squared values:"
      ],
      "metadata": {
        "id": "GWV-ZwIvhsP6"
      }
    },
    {
      "cell_type": "code",
      "source": [
        "numbers = [1, 2, 3, 4, 5]\n",
        "squares = [x * x for x in numbers]\n",
        "# Result: [1, 4, 9, 16, 25]"
      ],
      "metadata": {
        "id": "hwMQNfTmh7an"
      },
      "execution_count": null,
      "outputs": []
    },
    {
      "cell_type": "markdown",
      "source": [
        "Filtering lists:"
      ],
      "metadata": {
        "id": "zklrp6PHh-Vt"
      }
    },
    {
      "cell_type": "code",
      "source": [
        "numbers = [1, 2, 3, 4, 5]\n",
        "evens = [x for x in numbers] # return the item if it is even\n",
        "# Result: [2, 4]"
      ],
      "metadata": {
        "id": "y3GxJeF_iA8a"
      },
      "execution_count": null,
      "outputs": []
    },
    {
      "cell_type": "code",
      "source": [
        "#Return the item if it is not banana, if it is banana return orange."
      ],
      "metadata": {
        "id": "Vc0EmOppikpk"
      },
      "execution_count": null,
      "outputs": []
    },
    {
      "cell_type": "markdown",
      "source": [
        "Given a list of strings, we could filter out strings with\n",
        "length 2 or less and also convert them to uppercase like this:"
      ],
      "metadata": {
        "id": "X5jOVh6vjHGn"
      }
    },
    {
      "cell_type": "code",
      "source": [
        "words = [\"a\", \"abc\", \"abcd\", \"python\"]\n",
        "[word.upper() for word in words if len(word) \\u003E 3]"
      ],
      "metadata": {
        "colab": {
          "base_uri": "https://localhost:8080/"
        },
        "id": "-rJzJ7OFjJga",
        "outputId": "e54afaa6-7bd3-4253-8acd-9c277f1786af"
      },
      "execution_count": null,
      "outputs": [
        {
          "output_type": "execute_result",
          "data": {
            "text/plain": [
              "['ABCD', 'PYTHON']"
            ]
          },
          "metadata": {},
          "execution_count": 34
        }
      ]
    },
    {
      "cell_type": "markdown",
      "source": [
        "Convert strings to uppercase:"
      ],
      "metadata": {
        "id": "BirRk_kYh4-9"
      }
    },
    {
      "cell_type": "code",
      "source": [
        "words = [\"hello\", \"world\", \"python\"]\n",
        "uppercase_words = [word.upper() for word in words]\n",
        "# Result: [\"HELLO\", \"WORLD\", \"PYTHON\"]\n"
      ],
      "metadata": {
        "id": "jcFkbxV_iM9V"
      },
      "execution_count": null,
      "outputs": []
    },
    {
      "cell_type": "markdown",
      "source": [
        "Create a list of tuples:"
      ],
      "metadata": {
        "id": "iVJ9KNYliR2D"
      }
    },
    {
      "cell_type": "code",
      "source": [
        "names = [\"Alice\", \"Bob\", \"Charlie\"]\n",
        "name_lengths = [(name, len(name)) for name in names]\n",
        "# Result: [(\"Alice\", 5), (\"Bob\", 3), (\"Charlie\", 7)]"
      ],
      "metadata": {
        "id": "jBMOyaSdiRe8"
      },
      "execution_count": null,
      "outputs": []
    },
    {
      "cell_type": "markdown",
      "source": [
        "### Dictionary Comprehensions"
      ],
      "metadata": {
        "id": "Whnne99CjrrC"
      }
    },
    {
      "cell_type": "markdown",
      "source": [
        "Dictionary comprehensions in Python are a concise and efficient way to create dictionaries by specifying key-value pairs based on existing iterables. They allow you to create dictionaries in a single line of code using a compact and readable syntax.\n",
        "\n",
        "Here's the basic structure of a dictionary comprehension:\n",
        "\n",
        "`new_dict = {key_expression: value_expression for item in iterable if condition}`\n",
        "\n",
        "* `new_dict`: This is the dictionary you want to create.\n",
        "* `key_expression`: An expression that determines the keys in the new dictionary.\n",
        "* `value_expression`: An expression that determines the values associated with the keys.\n",
        "* `item`: A variable representing each element in the iterable.\n",
        "* `iterable`: The source of data you want to iterate over.\n",
        "* `condition (optional)`: An optional filter to include only items that meet a specific condition."
      ],
      "metadata": {
        "id": "BMaAyZaJkCPW"
      }
    },
    {
      "cell_type": "code",
      "source": [
        "numbers = [1, 2, 3, 4, 5]\n",
        "square_dict = {x: x * x for x in numbers}\n",
        "# Result: {1: 1, 2: 4, 3: 9, 4: 16, 5: 25}"
      ],
      "metadata": {
        "id": "Zj5ym5l_Yj4A"
      },
      "execution_count": null,
      "outputs": []
    },
    {
      "cell_type": "markdown",
      "source": [
        "Swap keys and values in a dictionary:"
      ],
      "metadata": {
        "id": "jqG9axWpYqhl"
      }
    },
    {
      "cell_type": "code",
      "source": [
        "original_dict = {'apple': 'fruit', 'banana': 'fruit', 'carrot': 'vegetable'}\n",
        "# Result: {'fruit': 'banana', 'vegetable': 'carrot'}\n"
      ],
      "metadata": {
        "id": "yXxHCg5yYrPG"
      },
      "execution_count": null,
      "outputs": []
    },
    {
      "cell_type": "markdown",
      "source": [
        "### **Exercise**"
      ],
      "metadata": {
        "id": "rkSifp_5umtG"
      }
    },
    {
      "cell_type": "markdown",
      "source": [
        "We have two lists below holding three students’ midterm scores:"
      ],
      "metadata": {
        "id": "Jlg32tDMY47y"
      }
    },
    {
      "cell_type": "code",
      "source": [
        "midterm1 = [30, 60, 80]\n",
        "midterm2 = [80, 95, 85]"
      ],
      "metadata": {
        "id": "qi64ZL76up4F"
      },
      "execution_count": null,
      "outputs": []
    },
    {
      "cell_type": "markdown",
      "source": [
        "Use comprehensions to compute the average for each student:"
      ],
      "metadata": {
        "id": "iMOxP-2-Y_NM"
      }
    },
    {
      "cell_type": "code",
      "source": [
        "#"
      ],
      "metadata": {
        "id": "TWemLdK8uumD"
      },
      "execution_count": null,
      "outputs": []
    },
    {
      "cell_type": "markdown",
      "source": [
        "### **Exercise**"
      ],
      "metadata": {
        "id": "LD__g4S3xBAD"
      }
    },
    {
      "cell_type": "markdown",
      "source": [
        "We have the three lists below:"
      ],
      "metadata": {
        "id": "OcLjtz9sZINQ"
      }
    },
    {
      "cell_type": "code",
      "source": [
        "studentIds= [1, 2, 3, 4, 5, 6]\n",
        "quiz1 = [80, 30, 35, 90, 60, 80]\n",
        "quiz2 = [70, 20, 95, 80, 75, 20]"
      ],
      "metadata": {
        "id": "dWc5oO-cv15C"
      },
      "execution_count": null,
      "outputs": []
    },
    {
      "cell_type": "markdown",
      "source": [
        "Use\n",
        "comprehensions to convert this list into a dictionary:\n",
        "\n",
        "    {\n",
        "        '1': {'quiz1': 80, 'quiz2': 70},\n",
        "        '2': {'quiz1': 30, 'quiz2': 20},\n",
        "        '3': {'quiz1': 35, 'quiz2': 95},\n",
        "        '4': {'quiz1': 90, 'quiz2': 80},\n",
        "        '5': {'quiz1': 60, 'quiz2': 75},\n",
        "        '6': {'quiz1': 80, 'quiz2': 20}\n",
        "    }"
      ],
      "metadata": {
        "id": "LmW7axgkZMzk"
      }
    },
    {
      "cell_type": "code",
      "source": [
        "#"
      ],
      "metadata": {
        "id": "POeJ0hzGv8iS"
      },
      "execution_count": null,
      "outputs": []
    }
  ]
}